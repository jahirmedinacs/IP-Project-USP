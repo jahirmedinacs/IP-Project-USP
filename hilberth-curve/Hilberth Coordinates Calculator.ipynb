{
 "cells": [
  {
   "cell_type": "code",
   "execution_count": 1,
   "metadata": {},
   "outputs": [
    {
     "name": "stdout",
     "output_type": "stream",
     "text": [
      "/home/ubuntu/gitproyect/usp-sound-visual/datalib/\t add to the path list\n",
      "/home/ubuntu/gitproyect/usp-sound-visual/khinsider-master/\t add to the path list\n",
      "/home/ubuntu/gitproyect/usp-sound-visual/hilbert_curve/\t add to the path list\n"
     ]
    }
   ],
   "source": [
    "import os\n",
    "import sys\n",
    "\n",
    "import os\n",
    "cwd = os.getcwd()\n",
    "\n",
    "cwd = '/'.join(cwd.split('/')[:-1])\n",
    "\n",
    "def add_to_path(str):\n",
    "    try:\n",
    "        sys.path.index(str)\n",
    "    except:\n",
    "        sys.path.append(str)\n",
    "        print(str + \"\\t add to the path list\")\n",
    "    else:\n",
    "        print(str + \"\\t is already in the path list\")\n",
    "\n",
    "# this add all the libraris and scripts made for this project\n",
    "\n",
    "add_to_path( cwd + \"/datalib/\")\n",
    "add_to_path( cwd + \"/khinsider-master/\")\n",
    "add_to_path( cwd + \"/hilbert_curve/\")\n",
    "\n",
    "import numpy as np\n",
    "import threading"
   ]
  },
  {
   "cell_type": "code",
   "execution_count": 2,
   "metadata": {},
   "outputs": [],
   "source": [
    "import hilbert"
   ]
  },
  {
   "cell_type": "code",
   "execution_count": 3,
   "metadata": {},
   "outputs": [],
   "source": [
    "def kernel(output_data, start_i, end_i, hc, live, cicle_live, verbose=False):\n",
    "    for i in range(start_i, end_i, 1):\n",
    "#         if round((end_i - i)/(end_i - start_i), 3) == 0.500:\n",
    "#             print(\"Half Way Here\")\n",
    "        output_data.append(hc.coordinates_from_distance(i))\n",
    "#     print(\"Done\")\n",
    "    \n",
    "    cicle_live[0] = False\n",
    "    \n",
    "    while live[0]:\n",
    "        pass\n",
    "    if verbose:\n",
    "        print(\"Thread Ended\")\n",
    "    \n",
    "# kernels = 64\n",
    "\n",
    "def parallel_hilbert(kernels = 64, p=10, verbose=False):\n",
    "    \n",
    "    N = 2 # number of dimensions\n",
    "#     p = 10 # number of iterations\n",
    "    hc = hilbert.HilbertCurve(p, N)\n",
    "    npts = 2**(N*p)\n",
    "    pts = []\n",
    "\n",
    "    \n",
    "    step = npts//kernels\n",
    "\n",
    "    proc_list = [None for i in range(kernels)]\n",
    "\n",
    "    meta_container = [[] for _ in range(kernels)]\n",
    "    state_container = [[True] for _ in range(kernels)]\n",
    "    cicle_state_container = [[True] for _ in range(kernels)]\n",
    "    last_id = 0\n",
    "    index = 0\n",
    "    for ii in range(step, npts + step, step):\n",
    "        if verbose:\n",
    "            print(\"Kernel {:d} instantiated\".format(index + 1))\n",
    "\n",
    "        proc_list[index] = threading.Thread(target=kernel,\n",
    "                                            args=(meta_container[index], \n",
    "                                                  ii - step , ii, hc,\n",
    "                                                  state_container[index],\n",
    "                                                 cicle_state_container[index],\n",
    "                                                 verbose))\n",
    "        index += 1\n",
    "\n",
    "        proc_list[index - 1].start()\n",
    "\n",
    "        if verbose:\n",
    "            print(\"Kernel {:d} Started\".format(index))\n",
    "            print(\"With data From {:d} to {:d}\".format(ii - step , ii))\n",
    "        last_id = ii\n",
    "\n",
    "    if verbose:\n",
    "        print(\"\\n\")\n",
    "\n",
    "        if npts == last_id:\n",
    "            print(\"Fully Coverage Success\")\n",
    "        else:\n",
    "            print(\"Partial Coverage ERROR , diferentia :\\t{:d}\".format(last_id - npts))\n",
    "\n",
    "    already_count = []\n",
    "    still_working = True\n",
    "    while still_working:\n",
    "        still_working = False\n",
    "        thread_id = 0\n",
    "        for cicle_state in cicle_state_container:\n",
    "            if not cicle_state[0] and thread_id not in already_count:\n",
    "                already_count.append(thread_id)\n",
    "                if verbose:\n",
    "                    print(\"Thread {:d} Finish\".format(thread_id + 1))            \n",
    "            still_working += cicle_state[0]\n",
    "            thread_id += 1\n",
    "    \n",
    "    if verbose:\n",
    "        print(\"\\nAll Threads are Finish, Waiting for data collection\\t...\")\n",
    "\n",
    "    data_container = []\n",
    "    for index in range(kernels):\n",
    "        data_container += meta_container[index]\n",
    "        state_container[index][0] = False\n",
    "\n",
    "    if verbose:\n",
    "        print(\"\\nTotal Data{:d}\\t Expected Coverage\\t{:d}\".format(len(data_container), npts))\n",
    "    \n",
    "    return data_container\n",
    "    \n",
    "# print(meta_container[0], len(meta_container[0]))"
   ]
  },
  {
   "cell_type": "code",
   "execution_count": 4,
   "metadata": {},
   "outputs": [],
   "source": [
    "N = 2\n",
    "p = 12\n",
    "data_container = parallel_hilbert(128, p, False)\n",
    "shape_side = int(N**p)\n",
    "hilberth_2d_1d = np.zeros((shape_side, shape_side), int)\n",
    "\n",
    "index = 0\n",
    "for coords in data_container:\n",
    "    if hilberth_2d_1d[coords[0], coords[1]] == 0:\n",
    "        hilberth_2d_1d[coords[0], coords[1]] += index\n",
    "    else:\n",
    "        print(index, coords , \"Already Occurs\")\n",
    "    index += 1"
   ]
  },
  {
   "cell_type": "code",
   "execution_count": 5,
   "metadata": {},
   "outputs": [
    {
     "name": "stdout",
     "output_type": "stream",
     "text": [
      "[[       0        3        4 ...  5592403  5592404  5592405]\n",
      " [       1        2        7 ...  5592402  5592407  5592406]\n",
      " [      14       13        8 ...  5592413  5592408  5592409]\n",
      " ...\n",
      " [16777201 16777202 16777207 ... 11184802 11184807 11184806]\n",
      " [16777214 16777213 16777208 ... 11184813 11184808 11184809]\n",
      " [16777215 16777212 16777211 ... 11184812 11184811 11184810]]\n"
     ]
    }
   ],
   "source": [
    "print(hilberth_2d_1d)"
   ]
  },
  {
   "cell_type": "code",
   "execution_count": 6,
   "metadata": {},
   "outputs": [
    {
     "name": "stderr",
     "output_type": "stream",
     "text": [
      "/home/ubuntu/anaconda3/lib/python3.6/site-packages/matplotlib/font_manager.py:278: UserWarning: Matplotlib is building the font cache using fc-list. This may take a moment.\n",
      "  'Matplotlib is building the font cache using fc-list. '\n"
     ]
    }
   ],
   "source": [
    "from matplotlib import pyplot as plt\n",
    "from mpl_toolkits import mplot3d\n",
    "\n",
    "plt.ion()\n"
   ]
  },
  {
   "cell_type": "code",
   "execution_count": 7,
   "metadata": {},
   "outputs": [
    {
     "data": {
      "image/png": "[encoded data removed]",
      "text/plain": [
       "<Figure size 432x288 with 1 Axes>"
      ]
     },
     "metadata": {},
     "output_type": "display_data"
    }
   ],
   "source": [
    "x = [i for i in range(shape_side)]\n",
    "y = x\n",
    "\n",
    "fig = plt.figure()\n",
    "ax = plt.axes(projection='3d')\n",
    "\n",
    "# # Data for a three-dimensional line\n",
    "# zline = hilberth_2d_1d[x][y]\n",
    "# xline = x\n",
    "# yline = y\n",
    "# ax.plot3D(xline, yline, zline, 'gray')\n",
    "\n",
    "# Data for three-dimensional scattered points\n",
    "# zdata = hilberth_2d_1d[x][y]\n",
    "# xdata = x\n",
    "# ydata = y\n",
    "ax.scatter3D(x, y, hilberth_2d_1d[x, y]);\n"
   ]
  },
  {
   "cell_type": "code",
   "execution_count": 8,
   "metadata": {},
   "outputs": [],
   "source": [
    "np.save(\"./pattern_12_size\", hilberth_2d_1d)"
   ]
  },
  {
   "cell_type": "code",
   "execution_count": 4,
   "metadata": {},
   "outputs": [
    {
     "name": "stdout",
     "output_type": "stream",
     "text": [
      "Start\t12\n",
      "Done\n"
     ]
    }
   ],
   "source": [
    "for pp in range(12, 13):\n",
    "    print(\"Start\\t{:d}\".format(pp))\n",
    "    \n",
    "    name = \"./pattern_{:d}_size\".format(pp)\n",
    "    \n",
    "    crry = parallel_hilbert(128, pp, False)\n",
    "    \n",
    "    np.save(name, np.array(crry))\n",
    "    \n",
    "    print(\"Done\")"
   ]
  },
  {
   "cell_type": "code",
   "execution_count": null,
   "metadata": {},
   "outputs": [],
   "source": []
  }
 ],
 "metadata": {
  "kernelspec": {
   "display_name": "Python 3",
   "language": "python",
   "name": "python3"
  },
  "language_info": {
   "codemirror_mode": {
    "name": "ipython",
    "version": 3
   },
   "file_extension": ".py",
   "mimetype": "text/x-python",
   "name": "python",
   "nbconvert_exporter": "python",
   "pygments_lexer": "ipython3",
   "version": "3.6.4"
  }
 },
 "nbformat": 4,
 "nbformat_minor": 2
}
