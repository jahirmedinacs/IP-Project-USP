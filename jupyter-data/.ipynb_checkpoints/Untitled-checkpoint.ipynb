{
 "cells": [
  {
   "cell_type": "markdown",
   "metadata": {},
   "source": [
    "## Part 1 : Information Retrive"
   ]
  },
  {
   "cell_type": "code",
   "execution_count": 1,
   "metadata": {},
   "outputs": [],
   "source": [
    "import sys\n",
    "sys.path.append('..')"
   ]
  },
  {
   "cell_type": "code",
   "execution_count": 2,
   "metadata": {},
   "outputs": [
    {
     "name": "stdout",
     "output_type": "stream",
     "text": [
      "http://websdr.ewi.utwente.nl:8901/fullday/day16832.png\n",
      "http://websdr.ewi.utwente.nl:8901/fullday/day16833.png\n",
      "http://websdr.ewi.utwente.nl:8901/fullday/day16834.png\n",
      "http://websdr.ewi.utwente.nl:8901/fullday/day16835.png\n",
      "http://websdr.ewi.utwente.nl:8901/fullday/day16836.png\n",
      "http://websdr.ewi.utwente.nl:8901/fullday/day16837.png\n",
      "http://websdr.ewi.utwente.nl:8901/fullday/day16838.png\n",
      "http://websdr.ewi.utwente.nl:8901/fullday/day16839.png\n",
      "http://websdr.ewi.utwente.nl:8901/fullday/day16840.png\n",
      "http://websdr.ewi.utwente.nl:8901/fullday/day16841.png\n"
     ]
    }
   ],
   "source": [
    "import datalib.dowls as DW\n",
    "\n",
    "source = DW.DataSource()\n",
    "\n",
    "source.set_main_url(\"http://websdr.ewi.utwente.nl:8901/fullday/day16832.png\")\n",
    "source.set_pattern(\"http://websdr.ewi.utwente.nl:8901/fullday/day\")\n",
    "source.set_extesion(\"png\")\n",
    "\n",
    "source.detect_pattern(DW.iP.SIMPLEX_AUTOINT)\n",
    "\n",
    "source.samples(10)\n",
    "source.download()\n"
   ]
  },
  {
   "cell_type": "code",
   "execution_count": null,
   "metadata": {},
   "outputs": [],
   "source": []
  }
 ],
 "metadata": {
  "celltoolbar": "Attachments",
  "kernelspec": {
   "display_name": "Python 3",
   "language": "python",
   "name": "python3"
  },
  "language_info": {
   "codemirror_mode": {
    "name": "ipython",
    "version": 3
   },
   "file_extension": ".py",
   "mimetype": "text/x-python",
   "name": "python",
   "nbconvert_exporter": "python",
   "pygments_lexer": "ipython3",
   "version": "3.6.4"
  }
 },
 "nbformat": 4,
 "nbformat_minor": 2
}
