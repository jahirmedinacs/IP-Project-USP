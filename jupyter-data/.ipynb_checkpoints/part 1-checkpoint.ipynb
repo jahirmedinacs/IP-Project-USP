{
 "cells": [
  {
   "cell_type": "code",
   "execution_count": 1,
   "metadata": {},
   "outputs": [
    {
     "name": "stdout",
     "output_type": "stream",
     "text": [
      "/home/ubuntu/gitprojects/IP-Project-USP/datalib/\t add to the path list\n",
      "/home/ubuntu/gitprojects/IP-Project-USP/khinsider-master/\t add to the path list\n"
     ]
    }
   ],
   "source": [
    "import os\n",
    "import sys\n",
    "\n",
    "import os\n",
    "cwd = os.getcwd()\n",
    "\n",
    "cwd = '/'.join(cwd.split('/')[:-1])\n",
    "\n",
    "def add_to_path(str):\n",
    "    try:\n",
    "        sys.path.index(str)\n",
    "    except:\n",
    "        sys.path.append(str)\n",
    "        print(str + \"\\t add to the path list\")\n",
    "    else:\n",
    "        print(str + \"\\t is already in the path list\")\n",
    "\n",
    "# this add all the libraris and scripts made for this project\n",
    "\n",
    "add_to_path( cwd + \"/datalib/\")\n",
    "add_to_path( cwd + \"/khinsider-master/\")"
   ]
  },
  {
   "cell_type": "code",
   "execution_count": 2,
   "metadata": {},
   "outputs": [],
   "source": [
    "import wave\n",
    "import numpy as np\n",
    "import scipy as sp\n",
    "\n",
    "from matplotlib import pyplot as plt\n",
    "\n",
    "import pprint\n",
    "import struct\n",
    "\n",
    "import pandas as pd\n",
    "\n",
    "import time"
   ]
  },
  {
   "cell_type": "markdown",
   "metadata": {},
   "source": [
    "# Part 1 : Information Retrive"
   ]
  },
  {
   "cell_type": "markdown",
   "metadata": {
    "hideCode": false,
    "hidePrompt": false,
    "scrolled": true,
    "slideshow": {
     "slide_type": "-"
    }
   },
   "source": [
    "## * Getting Sound Samples\n",
    "In this case, despite the main idea was getting already noici samples, it was need change this, because the \"master\" sample needs to be almost pure , whit the minimal noise posible"
   ]
  },
  {
   "cell_type": "code",
   "execution_count": 3,
   "metadata": {},
   "outputs": [],
   "source": [
    "# Download\n",
    "# os.system(\"python3.6 ../khinsider-master/khinsider.py half-lifel-2-official-soundtrack\")"
   ]
  },
  {
   "cell_type": "code",
   "execution_count": 4,
   "metadata": {},
   "outputs": [],
   "source": [
    "DATA_PATH = \"../data/\"\n",
    "files_wav = [ file for file in os.listdir(DATA_PATH) if file[-4:] == \".wav\"]"
   ]
  },
  {
   "cell_type": "code",
   "execution_count": 5,
   "metadata": {},
   "outputs": [
    {
     "data": {
      "text/plain": [
       "['01 - tank! (tv stretch).wav',\n",
       " '04 - diamonds.wav',\n",
       " '07 - mushroom hunting.wav',\n",
       " \"10 - einstein groovin'.wav\",\n",
       " '08 - no reply.wav',\n",
       " '06 - piano black.wav',\n",
       " '03 - cosmic dare (pretty with a pistol).wav',\n",
       " '11 - pearls.wav',\n",
       " '09 - blue.wav',\n",
       " '12 - gotta knock a little harder.wav',\n",
       " '02 - what planet is this..wav',\n",
       " \"05 - don't bother none (tv edit).wav\"]"
      ]
     },
     "execution_count": 5,
     "metadata": {},
     "output_type": "execute_result"
    }
   ],
   "source": [
    "files_wav"
   ]
  },
  {
   "cell_type": "code",
   "execution_count": 6,
   "metadata": {},
   "outputs": [
    {
     "name": "stdout",
     "output_type": "stream",
     "text": [
      "0 01 - tank! (tv stretch).wav \n",
      "\n",
      "1 04 - diamonds.wav \n",
      "\n",
      "2 07 - mushroom hunting.wav \n",
      "\n",
      "3 10 - einstein groovin'.wav \n",
      "\n",
      "4 08 - no reply.wav \n",
      "\n",
      "5 06 - piano black.wav \n",
      "\n",
      "6 03 - cosmic dare (pretty with a pistol).wav \n",
      "\n",
      "7 11 - pearls.wav \n",
      "\n",
      "8 09 - blue.wav \n",
      "\n",
      "9 12 - gotta knock a little harder.wav \n",
      "\n",
      "10 02 - what planet is this..wav \n",
      "\n",
      "11 05 - don't bother none (tv edit).wav \n",
      "\n",
      "624\n"
     ]
    }
   ],
   "source": [
    "index = 0\n",
    "sound_data_container = {}\n",
    "for wav_f in files_wav:\n",
    "    sound_data_container[index] = [wave.open(DATA_PATH + wav_f), wav_f]\n",
    "    print(index , wav_f, \"\\n\")\n",
    "    index += 1\n",
    "\n",
    "print(sound_data_container.__sizeof__())"
   ]
  },
  {
   "cell_type": "code",
   "execution_count": 7,
   "metadata": {},
   "outputs": [],
   "source": [
    "def stereo_chanel_data(wav_obj_pointer, verbose=False):\n",
    "    wav_obj_pointer.rewind()\n",
    "    \n",
    "    signed_data_l = []\n",
    "    signed_data_r = []\n",
    "\n",
    "    total_frames = wav_obj_pointer.getnframes()\n",
    "    amount = 0\n",
    "\n",
    "    for frame_index in range(1 , total_frames - 1, 1):\n",
    "        wav_obj_pointer.setpos(frame_index)\n",
    "\n",
    "        try:\n",
    "            l_int = struct.unpack(\"<h\",wav_obj_pointer.readframes(1)[:2])[0]\n",
    "            r_int = struct.unpack(\"<h\",wav_obj_pointer.readframes(1)[-2:])[0]\n",
    "\n",
    "        except:\n",
    "            if verbose:\n",
    "                print(\"error with frame \\t\" , frame_index , \" N_CHANEL_DATA ERROR \\n\")\n",
    "        else:\n",
    "            signed_data_l.append(l_int)\n",
    "            signed_data_r.append(r_int)\n",
    "\n",
    "            if frame_index % (44100*20) == 0 and verbose:\n",
    "                print(round((frame_index / total_frames) * 100, 4), \"\\t%\")\n",
    "                print(l_int, \"\\t\", r_int)\n",
    "                print(len(signed_data_l), \"\\t\", len(signed_data_r))\n",
    "\n",
    "    return [signed_data_l, signed_data_r]"
   ]
  },
  {
   "cell_type": "code",
   "execution_count": 8,
   "metadata": {},
   "outputs": [],
   "source": [
    "# test = sound_data_container[1][0]\n",
    "# print(test.getparams())"
   ]
  },
  {
   "cell_type": "code",
   "execution_count": 9,
   "metadata": {},
   "outputs": [],
   "source": [
    "def sound_csv(files, basic_verbose = False, verbose=False):\n",
    "    \n",
    "    for index in range(len(files)):\n",
    "        \n",
    "        if verbose:\n",
    "            print(files[index][1], \"\\t in execution at : \\t 0 % and going\")\n",
    "        elif basic_verbose:\n",
    "            print(files[index][1], \"\\t in execution with index\\t\", index)\n",
    "        else:\n",
    "            pass\n",
    "            \n",
    "        [sound_obj_ref , sound_name] = files[index]\n",
    "        \n",
    "        data_l_r = stereo_chanel_data(sound_obj_ref, verbose)\n",
    "        \n",
    "        carry_data = np.matrix(data_l_r).T\n",
    "        \n",
    "        sound_frame_data = pd.DataFrame(carry_data, columns=[\"left\", \"rigth\"])\n",
    "                \n",
    "        sound_frame_data.to_csv( (DATA_PATH + sound_name[:-4] + \".csv\"), sep='\\t', encoding='utf-8')\n",
    "        \n",
    "        if verbose or basic_verbose:\n",
    "            print(\"\\n\", sound_name , \"\\tDONE\\n\")"
   ]
  },
  {
   "cell_type": "code",
   "execution_count": 10,
   "metadata": {},
   "outputs": [
    {
     "name": "stdout",
     "output_type": "stream",
     "text": [
      "01 - tank! (tv stretch).wav \t in execution with index\t 0\n",
      "\n",
      " 01 - tank! (tv stretch).wav \tDONE\n",
      "\n",
      "04 - diamonds.wav \t in execution with index\t 1\n",
      "\n",
      " 04 - diamonds.wav \tDONE\n",
      "\n",
      "07 - mushroom hunting.wav \t in execution with index\t 2\n",
      "\n",
      " 07 - mushroom hunting.wav \tDONE\n",
      "\n",
      "10 - einstein groovin'.wav \t in execution with index\t 3\n",
      "\n",
      " 10 - einstein groovin'.wav \tDONE\n",
      "\n",
      "08 - no reply.wav \t in execution with index\t 4\n",
      "\n",
      " 08 - no reply.wav \tDONE\n",
      "\n",
      "06 - piano black.wav \t in execution with index\t 5\n",
      "\n",
      " 06 - piano black.wav \tDONE\n",
      "\n",
      "03 - cosmic dare (pretty with a pistol).wav \t in execution with index\t 6\n",
      "\n",
      " 03 - cosmic dare (pretty with a pistol).wav \tDONE\n",
      "\n",
      "11 - pearls.wav \t in execution with index\t 7\n",
      "\n",
      " 11 - pearls.wav \tDONE\n",
      "\n",
      "09 - blue.wav \t in execution with index\t 8\n",
      "\n",
      " 09 - blue.wav \tDONE\n",
      "\n",
      "12 - gotta knock a little harder.wav \t in execution with index\t 9\n",
      "\n",
      " 12 - gotta knock a little harder.wav \tDONE\n",
      "\n",
      "02 - what planet is this..wav \t in execution with index\t 10\n",
      "\n",
      " 02 - what planet is this..wav \tDONE\n",
      "\n",
      "05 - don't bother none (tv edit).wav \t in execution with index\t 11\n",
      "\n",
      " 05 - don't bother none (tv edit).wav \tDONE\n",
      "\n",
      "2178.4474761486053\n"
     ]
    }
   ],
   "source": [
    "start = time.time()\n",
    "sound_csv(sound_data_container, basic_verbose=True)\n",
    "print (time.time() - start)"
   ]
  },
  {
   "cell_type": "code",
   "execution_count": 11,
   "metadata": {},
   "outputs": [],
   "source": [
    "def meta_data(files, verbose=False):\n",
    "    specs_matrix = []\n",
    "    \n",
    "    for index in range(len(files)):\n",
    "        if verbose:\n",
    "            print(files[index][1], \"\\t in transcription\")\n",
    "        else:\n",
    "            pass\n",
    "        \n",
    "        [sound_obj_ref , sound_name] = files[index]\n",
    "        \n",
    "        specs_matrix.append([sound_name] + list(sound_obj_ref.getparams()))\n",
    "        \n",
    "        if verbose:\n",
    "            print(\"\\n\", sound_name , \"\\tDONE\\n\")\n",
    "    \n",
    "    meta_sound_data = pd.DataFrame(specs_matrix, columns=\n",
    "                                   [\"file name\", \"nchannels\", \"sampwidth\", \"framerate\", \"nframes\", \"comptype\", \"compname\"])\n",
    "                \n",
    "    meta_sound_data.to_csv( (DATA_PATH + \"meta_sound_data.csv\"), sep='\\t', encoding='utf-8')\n",
    "    \n",
    "    "
   ]
  },
  {
   "cell_type": "code",
   "execution_count": 12,
   "metadata": {},
   "outputs": [
    {
     "name": "stdout",
     "output_type": "stream",
     "text": [
      "01 - tank! (tv stretch).wav \t in transcription\n",
      "\n",
      " 01 - tank! (tv stretch).wav \tDONE\n",
      "\n",
      "04 - diamonds.wav \t in transcription\n",
      "\n",
      " 04 - diamonds.wav \tDONE\n",
      "\n",
      "07 - mushroom hunting.wav \t in transcription\n",
      "\n",
      " 07 - mushroom hunting.wav \tDONE\n",
      "\n",
      "10 - einstein groovin'.wav \t in transcription\n",
      "\n",
      " 10 - einstein groovin'.wav \tDONE\n",
      "\n",
      "08 - no reply.wav \t in transcription\n",
      "\n",
      " 08 - no reply.wav \tDONE\n",
      "\n",
      "06 - piano black.wav \t in transcription\n",
      "\n",
      " 06 - piano black.wav \tDONE\n",
      "\n",
      "03 - cosmic dare (pretty with a pistol).wav \t in transcription\n",
      "\n",
      " 03 - cosmic dare (pretty with a pistol).wav \tDONE\n",
      "\n",
      "11 - pearls.wav \t in transcription\n",
      "\n",
      " 11 - pearls.wav \tDONE\n",
      "\n",
      "09 - blue.wav \t in transcription\n",
      "\n",
      " 09 - blue.wav \tDONE\n",
      "\n",
      "12 - gotta knock a little harder.wav \t in transcription\n",
      "\n",
      " 12 - gotta knock a little harder.wav \tDONE\n",
      "\n",
      "02 - what planet is this..wav \t in transcription\n",
      "\n",
      " 02 - what planet is this..wav \tDONE\n",
      "\n",
      "05 - don't bother none (tv edit).wav \t in transcription\n",
      "\n",
      " 05 - don't bother none (tv edit).wav \tDONE\n",
      "\n"
     ]
    }
   ],
   "source": [
    "meta_data(sound_data_container, True)"
   ]
  },
  {
   "cell_type": "raw",
   "metadata": {},
   "source": [
    "alt_signed_data_l = np.array(signed_data_l, np.int32)\n",
    "alt_signed_data_r = np.array(signed_data_r, np.int32)\n",
    "\n",
    "TEST_TOP = 44100*2\n",
    "ALT_TEST_TOP = int( TEST_TOP / 2)\n",
    "\n",
    "print(alt_signed_data_l.max())\n",
    "print(alt_signed_data_l.min())\n",
    "\n",
    "plt.plot(signed_data_l[0:TEST_TOP])\n",
    "# plt.plot(alt_signed_data_l)\n",
    "plt.show()\n",
    "\n",
    "print(alt_signed_data_r.max())\n",
    "print(alt_signed_data_r.min())\n",
    "\n",
    "plt.plot(signed_data_r[0:TEST_TOP])\n",
    "# plt.plot(alt_signed_data_r)\n",
    "plt.show()\n",
    "\n",
    "fft_alt_signed_data_l = np.fft.fft(alt_signed_data_l[0:TEST_TOP])\n",
    "plt.plot(fft_alt_signed_data_l.real[0:ALT_TEST_TOP])\n",
    "plt.show()\n",
    "\n",
    "fft_alt_signed_data_r = np.fft.fft(alt_signed_data_r[0:TEST_TOP])\n",
    "plt.plot(fft_alt_signed_data_r.real[0:ALT_TEST_TOP])\n",
    "plt.show()"
   ]
  }
 ],
 "metadata": {
  "celltoolbar": "Hide code",
  "kernelspec": {
   "display_name": "Python 3",
   "language": "python",
   "name": "python3"
  },
  "language_info": {
   "codemirror_mode": {
    "name": "ipython",
    "version": 3
   },
   "file_extension": ".py",
   "mimetype": "text/x-python",
   "name": "python",
   "nbconvert_exporter": "python",
   "pygments_lexer": "ipython3",
   "version": "3.6.4"
  }
 },
 "nbformat": 4,
 "nbformat_minor": 2
}
