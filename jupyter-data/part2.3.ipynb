{
 "cells": [
  {
   "cell_type": "code",
   "execution_count": 1,
   "metadata": {},
   "outputs": [
    {
     "name": "stdout",
     "output_type": "stream",
     "text": [
      "/home/ubuntu/gitprojects/IP-Project-USP/datalib/\t add to the path list\n",
      "/home/ubuntu/gitprojects/IP-Project-USP/khinsider-master/\t add to the path list\n"
     ]
    }
   ],
   "source": [
    "import os\n",
    "import sys\n",
    "\n",
    "import os\n",
    "cwd = os.getcwd()\n",
    "\n",
    "cwd = '/'.join(cwd.split('/')[:-1])\n",
    "\n",
    "def add_to_path(str):\n",
    "    try:\n",
    "        sys.path.index(str)\n",
    "    except:\n",
    "        sys.path.append(str)\n",
    "        print(str + \"\\t add to the path list\")\n",
    "    else:\n",
    "        print(str + \"\\t is already in the path list\")\n",
    "\n",
    "# this add all the libraris and scripts made for this project\n",
    "\n",
    "add_to_path( cwd + \"/datalib/\")\n",
    "add_to_path( cwd + \"/khinsider-master/\")"
   ]
  },
  {
   "cell_type": "code",
   "execution_count": 3,
   "metadata": {},
   "outputs": [],
   "source": [
    "import wave\n",
    "import numpy as np\n",
    "import scipy as sp\n",
    "\n",
    "from matplotlib import pyplot as plt\n",
    "\n",
    "import pprint\n",
    "import struct\n",
    "\n",
    "import pandas as pd\n",
    "\n",
    "import time\n",
    "\n",
    "import imageio as img"
   ]
  },
  {
   "cell_type": "code",
   "execution_count": 5,
   "metadata": {},
   "outputs": [],
   "source": [
    "DATA_PATH = \"../data/images/\""
   ]
  },
  {
   "cell_type": "code",
   "execution_count": 6,
   "metadata": {},
   "outputs": [
    {
     "name": "stderr",
     "output_type": "stream",
     "text": [
      "/home/ubuntu/anaconda3/lib/python3.6/site-packages/PIL/Image.py:2509: DecompressionBombWarning: Image size (104274849 pixels) exceeds limit of 89478485 pixels, could be decompression bomb DOS attack.\n",
      "  DecompressionBombWarning)\n"
     ]
    }
   ],
   "source": [
    "foo = img.read(DATA_PATH + \"test_r.bmp\", 'bmp')"
   ]
  },
  {
   "cell_type": "code",
   "execution_count": 8,
   "metadata": {},
   "outputs": [],
   "source": [
    "def overload_ratio(pixels):\n",
    "    overload = 100 - ( ( pixels / 89478485 ) * 100)\n",
    "    \n",
    "    if overload_ratio < 0:\n",
    "        return \n",
    "    "
   ]
  },
  {
   "cell_type": "code",
   "execution_count": 9,
   "metadata": {},
   "outputs": [
    {
     "data": {
      "text/plain": [
       "-16.536225440115572"
      ]
     },
     "execution_count": 9,
     "metadata": {},
     "output_type": "execute_result"
    }
   ],
   "source": [
    "overload_ratio(104274849)"
   ]
  },
  {
   "cell_type": "code",
   "execution_count": null,
   "metadata": {},
   "outputs": [],
   "source": []
  }
 ],
 "metadata": {
  "kernelspec": {
   "display_name": "Python 3",
   "language": "python",
   "name": "python3"
  },
  "language_info": {
   "codemirror_mode": {
    "name": "ipython",
    "version": 3
   },
   "file_extension": ".py",
   "mimetype": "text/x-python",
   "name": "python",
   "nbconvert_exporter": "python",
   "pygments_lexer": "ipython3",
   "version": "3.5.2"
  }
 },
 "nbformat": 4,
 "nbformat_minor": 2
}
